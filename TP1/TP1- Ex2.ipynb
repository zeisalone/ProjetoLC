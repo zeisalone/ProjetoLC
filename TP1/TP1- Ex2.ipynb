{
 "cells": [
  {
   "cell_type": "markdown",
   "id": "388a4520",
   "metadata": {},
   "source": [
    "### Implementação\n",
    "\n",
    "Começamos por importar a biblioteca do solver e o método *randint* da biblioteca *random* que será responsável pela criação dos valores pseudo-aleatórios. Além disso, criemos o modelo que será utilizado pelo solver. Este modelo é capaz de trabalhar com inequações não lineares."
   ]
  },
  {
   "cell_type": "code",
   "execution_count": 1,
   "id": "69b3f3b3",
   "metadata": {},
   "outputs": [],
   "source": [
    "# solver\n",
    "from ortools.sat.python import cp_model\n",
    "\n",
    "# Cria o modelo CP-SAT\n",
    "model = cp_model.CpModel()\n",
    "\n",
    "from random import randint"
   ]
  },
  {
   "cell_type": "markdown",
   "id": "9fea8b61",
   "metadata": {},
   "source": [
    "### Inputs\n",
    "1. O N corresponde ao número de colunas da matriz L (a matriz L será referenciada mais a frente) e é um inteiro qualquer maior do que 30 em teoria\n",
    "2. O M corresponde ao tamanho do vetor E e ao número de linhas da matriz L (o vetor E e a matriz L serão referenciados mais a frente) e é de tal forma que |M| > |N| + 1\n",
    "3. O Q é um primo qualquer maior ou igual que 3, tal que |Q| > |M|"
   ]
  },
  {
   "cell_type": "code",
   "execution_count": 2,
   "id": "edfb7b5e",
   "metadata": {},
   "outputs": [],
   "source": [
    "N = 3\n",
    "M = 15\n",
    "Q = 73"
   ]
  },
  {
   "cell_type": "markdown",
   "id": "98144e69",
   "metadata": {},
   "source": [
    "Seja D $ \\equiv \\frac{Q-1}{2}$\n",
    "Como Q é um primo maior ou igual a 3, então Q é ímpar, logo Q-1 é par e portanto esta divisão da um inteiro\n",
    "\n",
    "Consideremos agora uma matriz L, com M linhas e N colunas, tal que seus valores são gerados aleatória e uniformemente no intervalo inteiro {-d,...,d}"
   ]
  },
  {
   "cell_type": "code",
   "execution_count": 3,
   "id": "11ec3b14",
   "metadata": {},
   "outputs": [],
   "source": [
    "D = int((Q-1)/2) \n",
    "L = {}\n",
    "\n",
    "for m in range(M):\n",
    "    for n in range(N):\n",
    "        L[m,n] = randint(-D, D)"
   ]
  },
  {
   "cell_type": "markdown",
   "id": "05daa02f",
   "metadata": {},
   "source": [
    "Consideremos um vetor E com M elementos. Cada elemento pode ser -1, 0 ou 1, ou seja, está no intervalo inteiro [-1,1]. Estes elementos serão variáveis que nos permitirão resolver aquilo que é proposto no trabalho prático."
   ]
  },
  {
   "cell_type": "code",
   "execution_count": 4,
   "id": "482c2c02",
   "metadata": {},
   "outputs": [],
   "source": [
    "E = {}\n",
    "        \n",
    "for m in range(M):\n",
    "    E[m] = model.NewIntVar(-1, 1, f'E[{m}]')"
   ]
  },
  {
   "cell_type": "markdown",
   "id": "bb0d64c8",
   "metadata": {},
   "source": [
    "Seja Z um vetor com M elementos e seja $Z_{m}$ um elemento do vetor Z e $E_{m}$ um elemento do vetor E, ambos com índice m, queremos algo do género:\n",
    "\n",
    "$$Z_{m} = 1 \\, \\, \\mbox{se e só se} \\, \\, E_{m} = 0 $$\n",
    "\n",
    "Os elementos de Z serão variáveis booleanas do nosso problema que respeitarão a equivalência acima"
   ]
  },
  {
   "cell_type": "code",
   "execution_count": 5,
   "id": "d4fb3407",
   "metadata": {},
   "outputs": [],
   "source": [
    "Z = {}\n",
    "\n",
    "for m in range(M):\n",
    "    Z[m] = model.NewBoolVar(f'Z[{m}]') \n",
    "    model.Add(E[m] == 0).OnlyEnforceIf(Z[m])\n",
    "    model.Add(E[m] != 0).OnlyEnforceIf(Z[m].Not())"
   ]
  },
  {
   "cell_type": "markdown",
   "id": "8c22017e",
   "metadata": {},
   "source": [
    "Queremos garantir que o vetor E que buscamos como solução, não é nulo, ou seja, há pelo menos um elemento que é diferente zero, isto é, como o vetor E tem M elementos, ele tem no máximo M-1 zeros:\n",
    "\n",
    "$$ \\sum_{m < M} Z_{m} \\le M - 1 $$"
   ]
  },
  {
   "cell_type": "code",
   "execution_count": 6,
   "id": "5bdf8366",
   "metadata": {},
   "outputs": [],
   "source": [
    "model.Add(sum([Z[m] for m in range(M)]) <= M - 1)\n",
    "pass"
   ]
  },
  {
   "cell_type": "markdown",
   "id": "090edaf8",
   "metadata": {},
   "source": [
    "Caso tenhamos uma solução não nula ao problema, queremos minimizar o número de zeros:\n",
    "\n",
    "$$ \\sum_{m < M} Z_{m} $$"
   ]
  },
  {
   "cell_type": "code",
   "execution_count": 7,
   "id": "0d784d5b",
   "metadata": {},
   "outputs": [],
   "source": [
    "model.Minimize(sum([Z[m] for m in range(M)]))\n",
    "pass"
   ]
  },
  {
   "cell_type": "markdown",
   "id": "b0ce6f98",
   "metadata": {},
   "source": [
    "Queremos determinar o vetor E de forma a respeitar a seguinte relação matricial:\n",
    "\n",
    "$$ \\forall_{n < N} \\sum_{m < M} E_{m} \\times L{m, n} \\equiv \\mbox{0 mod q}$$\n",
    "\n",
    "isto é,\n",
    "\n",
    "$$ \\forall_{n < N} . \\exists_{k \\in \\mathbb{Z}} . \\sum_{m < M} E_{m} \\times L{m, n} = q \\times k $$"
   ]
  },
  {
   "cell_type": "code",
   "execution_count": 8,
   "id": "e09ce7bd",
   "metadata": {},
   "outputs": [],
   "source": [
    "K = {}\n",
    "\n",
    "for n in range(N):\n",
    "    K[n] = model.NewIntVar(-1000000, 1000000, f'K[{n}]')\n",
    "    model.Add(sum([E[m] * L[m,n] for m in range(M)]) == Q * K[n])"
   ]
  },
  {
   "cell_type": "markdown",
   "id": "5e242086",
   "metadata": {},
   "source": [
    "### Testes"
   ]
  },
  {
   "cell_type": "code",
   "execution_count": 9,
   "id": "5a7f1a23",
   "metadata": {},
   "outputs": [
    {
     "name": "stdout",
     "output_type": "stream",
     "text": [
      "-1\n",
      "0\n",
      "0\n",
      "1\n",
      "1\n",
      "-1\n",
      "1\n",
      "1\n",
      "1\n",
      "1\n",
      "1\n",
      "-1\n",
      "1\n",
      "0\n",
      "-1\n"
     ]
    }
   ],
   "source": [
    "solver = cp_model.CpSolver()\n",
    "\n",
    "status = solver.Solve(model)\n",
    "\n",
    "if status == cp_model.OPTIMAL or status == cp_model.FEASIBLE:\n",
    "    for m in range(M):\n",
    "        print(solver.Value(E[m]))\n",
    "else:\n",
    "    print('No solution found.')"
   ]
  }
 ],
 "metadata": {
  "kernelspec": {
   "display_name": "Python 3 (ipykernel)",
   "language": "python",
   "name": "python3"
  },
  "language_info": {
   "codemirror_mode": {
    "name": "ipython",
    "version": 3
   },
   "file_extension": ".py",
   "mimetype": "text/x-python",
   "name": "python",
   "nbconvert_exporter": "python",
   "pygments_lexer": "ipython3",
   "version": "3.10.4"
  }
 },
 "nbformat": 4,
 "nbformat_minor": 5
}
