{
 "cells": [
  {
   "cell_type": "markdown",
   "id": "d46eb517",
   "metadata": {},
   "source": [
    "## Implementação\n",
    "\n",
    "Começamos por importar alguns métodos úteis para a resolução do problema\n",
    "\n",
    "O pygame será utilizado para uma visualização gráfica do problema enunciado\n",
    "Para a utilização do mesmo é necessário instalá-lo (é uma biblioteca externa):\n",
    "\n",
    "**pip install pygame**"
   ]
  },
  {
   "cell_type": "code",
   "execution_count": null,
   "id": "277da23f",
   "metadata": {},
   "outputs": [],
   "source": [
    "from random import choices\n",
    "from math import floor\n",
    "from copy import deepcopy\n",
    "import pygame"
   ]
  },
  {
   "cell_type": "markdown",
   "id": "c813705f",
   "metadata": {},
   "source": [
    "## Parâmetros do programa\n",
    "\n",
    "- N: corresponde ao tamanho da grelha de células normais\n",
    "- p: probabilidade de cada célula \"nascer\" viva\n",
    "- c: posição onde o centro com 3 x 3 células vivas iniciais se localiza"
   ]
  },
  {
   "cell_type": "code",
   "execution_count": null,
   "id": "ef6ed08e",
   "metadata": {},
   "outputs": [],
   "source": [
    "N = 15\n",
    "p = 1\n",
    "c = (5,5)"
   ]
  },
  {
   "cell_type": "markdown",
   "id": "50149907",
   "metadata": {},
   "source": [
    "## \"Solver\"\n",
    "\n",
    "Após analisar o problema, resolvemos não utilizar um solver que foi trabalhado nas aulas. Fizemos o nosso próprio \"solver\" de forma a modelar o problema de forma mais compreensiva e possívelmente mais eficiente.\n",
    "\n",
    "## Função auxiliar 1 - vizinhos_possiveis\n",
    "\n",
    "É uma função que recebe como parâmetros os valores das posições de x e y e o tamanho máximo da matriz (N x N) que queremos considerar. A função devolve todos os pares de posições x, y correspondente aos vizinhos dos valores recebidos como parâmetro, de forma a filtrar os casos que não fazem sentido (que saem da matriz)"
   ]
  },
  {
   "cell_type": "code",
   "execution_count": null,
   "id": "93371b99",
   "metadata": {},
   "outputs": [],
   "source": [
    "def vizinhos_possiveis(x,y, N):\n",
    "    v =  [(x+1,y), (x-1,y), (x,y-1), (x,y+1), (x-1, y+1), (x-1,y-1), (x+1, y+1), (x+1,y-1)]\n",
    "    return list(filter(lambda t: t[0] >= 0 and t[0] < N and t[1] >= 0 and t[1] < N, v))"
   ]
  },
  {
   "cell_type": "markdown",
   "id": "076e2dab",
   "metadata": {},
   "source": [
    "## Função auxiliar 2 - celulas_vizinhas_vivas\n",
    "\n",
    "É uma função que recebe como parâmetro uma matriz de células e uma lista de vizinhos, isto é, uma lista de pares de posições x e y vizinhos a uma determinada célula. A função devolve a quantidade de células vivas dentre os vizinhos."
   ]
  },
  {
   "cell_type": "code",
   "execution_count": null,
   "id": "06d6cae6",
   "metadata": {},
   "outputs": [],
   "source": [
    "def celulas_vizinhas_vivas(mapa, vizinhos):\n",
    "    vivas = 0\n",
    "    for x,y in vizinhos:\n",
    "        if mapa[y][x]:\n",
    "            vivas += 1\n",
    "    return vivas"
   ]
  },
  {
   "cell_type": "markdown",
   "id": "78b6cb40",
   "metadata": {},
   "source": [
    "## Função auxiliar 3 - list_to_key\n",
    "\n",
    "É uma função que recebe como parâmetro uma lista de listas e devolve um tuplo de tuplos com os mesmos elementos. O ponto todo desta função é que as listas são estruturas mutáveis, enquanto que os tuplos são imutáveis. A utilização desta função vai ficar mais clara mais a frente"
   ]
  },
  {
   "cell_type": "code",
   "execution_count": null,
   "id": "9dc76b9e",
   "metadata": {},
   "outputs": [],
   "source": [
    "def list_to_key(lista):\n",
    "    return tuple(tuple(l) for l in lista)"
   ]
  },
  {
   "cell_type": "markdown",
   "id": "28439c33",
   "metadata": {},
   "source": [
    "## Função estado_inicial\n",
    "\n",
    "É uma função que recebe como parâmetro uma matriz de células, um par que corresponde a posição do centro de células vivas 3 x 3, a probabilidade das células de borda \"nascerem\" vivas e o tamanho da matriz correspondente as células normais. Esta função não retorna nada, mas altera diretamente a matriz recebida como parâmetro."
   ]
  },
  {
   "cell_type": "code",
   "execution_count": null,
   "id": "1dc81ef3",
   "metadata": {},
   "outputs": [],
   "source": [
    "def estado_inicial(lista_aux, centro, probabilidade, N):\n",
    "    lista_aux[centro[1]][centro[0]] = 1\n",
    "\n",
    "    for x,y in vizinhos_possiveis(centro[0],centro[1], N+1):\n",
    "        lista_aux[y][x] = 1\n",
    "    \n",
    "    lista_aux[0][0] = choices([1, 0], [probabilidade, 1-probabilidade])[0]\n",
    "\n",
    "    for i in range(1, N + 1):\n",
    "        lista_aux[i][0] = choices([1, 0], [probabilidade, 1-probabilidade])[0]\n",
    "        lista_aux[0][i] = choices([1, 0], [probabilidade, 1-probabilidade])[0]"
   ]
  },
  {
   "cell_type": "markdown",
   "id": "16737391",
   "metadata": {},
   "source": [
    "## Função trans_estado\n",
    "\n",
    "É uma função que recebe como parâmetro a matriz de células corresponde ao estado atual e o tamanho da parte correspondente as células normais. A função devolve a matriz de células corresponde ao próximo estado."
   ]
  },
  {
   "cell_type": "code",
   "execution_count": null,
   "id": "d83db1a8",
   "metadata": {},
   "outputs": [],
   "source": [
    "def trans_estado(atual_estado, N):\n",
    "    prox_estado = deepcopy(atual_estado)\n",
    "    for i in range(1, N+1):\n",
    "        for j in range(1, N+1):\n",
    "            vizinhos = vizinhos_possiveis(i,j,N)\n",
    "            vivas = celulas_vizinhas_vivas(atual_estado, vizinhos)\n",
    "            if not atual_estado[i][j] and vivas == 3:\n",
    "                prox_estado[i][j] = 1\n",
    "            elif vivas != 2 and vivas != 3:\n",
    "                prox_estado[i][j] = 0\n",
    "\n",
    "    return prox_estado"
   ]
  },
  {
   "cell_type": "markdown",
   "id": "7e35677b",
   "metadata": {},
   "source": [
    "## Função verifica_i\n",
    "\n",
    "É uma função que recebe um dicionário dos estados acessíveis com parâmetro. A função verifica se todos os estados acessíveis contém pelo menos uma célula viva."
   ]
  },
  {
   "cell_type": "code",
   "execution_count": null,
   "id": "40c01d33",
   "metadata": {},
   "outputs": [],
   "source": [
    "def verifica_i(estados):\n",
    "    verifica = True\n",
    "    for estado in estados.keys():\n",
    "        aux = [elem for vetor in estado for elem in vetor]\n",
    "        if sum(aux) == 0:\n",
    "            verifica = False\n",
    "            break\n",
    "\n",
    "    return verifica"
   ]
  },
  {
   "cell_type": "markdown",
   "id": "2e7da72b",
   "metadata": {},
   "source": [
    "## Função verifica_ii\n",
    "\n",
    "É uma função que recebe um dicionário dos estados acessíveis como parâmetro e o tamanho da matriz correspondente as células normais. A função verifica que toda a célula normal está viva pelo menos uma vez em algum estado acessível"
   ]
  },
  {
   "cell_type": "code",
   "execution_count": null,
   "id": "6970ad94",
   "metadata": {},
   "outputs": [],
   "source": [
    "def verifica_ii(estados, N):\n",
    "    aux = [[0 for j in range(N)] for i in range(N)]\n",
    "    for estado in estados.keys():\n",
    "        for i in range(1, N+1):\n",
    "            for j in range(1, N+1):\n",
    "                aux[i-1][j-1] += estado[i][j]\n",
    "\n",
    "    verifica = True\n",
    "    i = 0\n",
    "    while verifica and i < N:\n",
    "        for j in range(N):\n",
    "            if aux[i][j] == 0:\n",
    "                verifica = False\n",
    "                break\n",
    "        i += 1\n",
    "        \n",
    "    return verifica"
   ]
  },
  {
   "cell_type": "markdown",
   "id": "a56a248b",
   "metadata": {},
   "source": [
    "## Criação da máquina de estados finita\n",
    "\n",
    "Como nossa matriz é finita então nossa máquina também terá um número finito de estados. Basta considerarmos que cada combinação diferente de células vivas e mortas de uma matriz representa um estado único. Como cada estado é único, podemos pensar em estados como chaves de um dicionário, em que o valor associado a chave corresponde o seu estado (valor inteiro). Uma chave tem que ser um estado imutável, por isto, convertemos uma lista de listas em tuplo de tuplos sempre que queremos trabalhar com as chaves. A transição de um mesmo estado para o outro é sempre a mesma e como temos um número finito de estados, sabemos que necessariamente encontraremos um ciclo e este será único, ou seja, a partir daqui não surgirá estados diferentes daqueles que já temos e portanto podemos terminar a construção da máquina. Para facilitar a busca futura, invertemos as chaves com os valores, para aceder diretamente a um estado (inteiro) específico. "
   ]
  },
  {
   "cell_type": "code",
   "execution_count": null,
   "id": "c678baae",
   "metadata": {},
   "outputs": [],
   "source": [
    "estados = {}\n",
    "trans = {}\n",
    "\n",
    "lista_aux = [[0 for j in range(N+1)] for i in range(N+1)]\n",
    "\n",
    "estado_inicial(lista_aux, c, p, N)\n",
    "estados[list_to_key(lista_aux)] = 1\n",
    "\n",
    "estado = 2\n",
    "\n",
    "lista_aux = trans_estado(lista_aux, N)\n",
    "chave = list_to_key(lista_aux)\n",
    "while chave not in estados:\n",
    "    estados[chave] = estado\n",
    "    trans[estado-1] = estado\n",
    "    estado += 1\n",
    "    lista_aux = trans_estado(lista_aux, N)\n",
    "    chave = list_to_key(lista_aux)\n",
    "\n",
    "trans[estado-1] = estados[chave]\n",
    "\n",
    "# verificar se as propriedades i e ii são válidas\n",
    "\n",
    "print(verifica_i(estados))\n",
    "print(verifica_ii(estados, N))\n",
    "\n",
    "# Inverte as chaves com os valores\n",
    "\n",
    "estados = {v: k for k, v in estados.items()}"
   ]
  },
  {
   "cell_type": "markdown",
   "id": "b047ddf1",
   "metadata": {},
   "source": [
    "# pygame\n",
    "\n",
    "Não explicaremos aqui os conceitos relativos a esta biblioteca porque foge ao tema do trabalho, mas apresentaremos o código que construímos para a construção da parte que permite visualizar o problema de forma gráfica. É preciso dar run all para funcionar corretamente (escolher simulação manual ou automática, colocando àquela que não foi escolhida em comentário)"
   ]
  },
  {
   "cell_type": "code",
   "execution_count": null,
   "id": "30f4f47f",
   "metadata": {},
   "outputs": [],
   "source": [
    "pygame.init()"
   ]
  },
  {
   "cell_type": "markdown",
   "id": "dfc2a351",
   "metadata": {},
   "source": [
    "## Estado Inicial"
   ]
  },
  {
   "cell_type": "code",
   "execution_count": null,
   "id": "fa02f492",
   "metadata": {},
   "outputs": [],
   "source": [
    "MAX_SIMULATION_DIMENSION = 700\n",
    "BLOCK_SIZE = floor(MAX_SIMULATION_DIMENSION/(N+1))\n",
    "SIMULATION_DIMENSION = BLOCK_SIZE * (N+1)\n",
    "\n",
    "def draw_cells(celulas, N):\n",
    "    for i in range(0, N+1):\n",
    "        for j in range(0, N+1):\n",
    "            if celulas[i][j]:\n",
    "                x = BLOCK_SIZE * i\n",
    "                y =  BLOCK_SIZE * j + 100\n",
    "                rect = pygame.draw.rect(screen, (0,0,0), [x, y, BLOCK_SIZE, BLOCK_SIZE])\n",
    "                pygame.draw.rect(screen, (255,0,0), rect, 1)\n",
    "\n",
    "screen = pygame.display.set_mode((SIMULATION_DIMENSION, SIMULATION_DIMENSION+100))\n",
    "screen.fill((255,255,255))\n",
    "\n",
    "font = pygame.font.Font('freesansbold.ttf', 32)\n",
    "text = font.render('ESTADO 1', True, (255,0,0), (255,255,255))\n",
    "textRect = text.get_rect()\n",
    "textRect.center = (SIMULATION_DIMENSION // 2, 50)\n",
    "\n",
    "estado = 1\n",
    "draw_cells(estados[estado], N)\n",
    "pygame.display.update()"
   ]
  },
  {
   "cell_type": "markdown",
   "id": "32af0a74",
   "metadata": {},
   "source": [
    "## Simulação Manual (Seta esquerda e direita)"
   ]
  },
  {
   "cell_type": "code",
   "execution_count": null,
   "id": "bcede13f",
   "metadata": {},
   "outputs": [],
   "source": [
    "\"\"\"\n",
    "\n",
    "run = True\n",
    "\n",
    "while run:\n",
    "    screen.fill((255,255,255))\n",
    "    screen.blit(text, textRect)\n",
    "\n",
    "    for event in pygame.event.get():\n",
    "        if event.type == pygame.QUIT:\n",
    "            run = False\n",
    "\n",
    "        if event.type == pygame.KEYDOWN:\n",
    "\n",
    "            if event.key == pygame.K_RIGHT:\n",
    "                estado = trans[estado]\n",
    "                text = font.render('ESTADO ' + str(estado), True, (255,0,0), (255,255,255))\n",
    "\n",
    "            if event.key == pygame.K_LEFT:\n",
    "                if estado >= 2:\n",
    "                    estado = estado - 1\n",
    "                    text = font.render('ESTADO ' + str(estado), True, (255,0,0), (255,255,255))\n",
    "\n",
    "    draw_cells(estados[estado], N)\n",
    "    pygame.display.update()\n",
    "\"\"\""
   ]
  },
  {
   "cell_type": "markdown",
   "id": "b2ff454d",
   "metadata": {},
   "source": [
    "## Simulação Automática"
   ]
  },
  {
   "cell_type": "code",
   "execution_count": null,
   "id": "3ccb0996",
   "metadata": {},
   "outputs": [],
   "source": [
    "run = True\n",
    "\n",
    "MOVEEVENT = pygame.USEREVENT+1\n",
    "T = 250\n",
    "pygame.time.set_timer(MOVEEVENT, T)\n",
    "estado = 1\n",
    "\n",
    "while run:\n",
    "    screen.fill((255,255,255))\n",
    "    screen.blit(text, textRect)\n",
    "\n",
    "    for event in pygame.event.get():\n",
    "        if event.type == pygame.QUIT:\n",
    "            run = False\n",
    "\n",
    "        if event.type == MOVEEVENT:\n",
    "            estado = trans[estado]\n",
    "            text = font.render('ESTADO ' + str(estado), True, (255,0,0), (255,255,255))\n",
    "\n",
    "    draw_cells(estados[estado], N)\n",
    "    pygame.display.update()"
   ]
  },
  {
   "cell_type": "markdown",
   "id": "135a7532",
   "metadata": {},
   "source": [
    "## Fim do pygame"
   ]
  },
  {
   "cell_type": "code",
   "execution_count": null,
   "id": "6c094a35",
   "metadata": {},
   "outputs": [],
   "source": [
    "pygame.quit()"
   ]
  }
 ],
 "metadata": {
  "kernelspec": {
   "display_name": "Python 3 (ipykernel)",
   "language": "python",
   "name": "python3"
  },
  "language_info": {
   "codemirror_mode": {
    "name": "ipython",
    "version": 3
   },
   "file_extension": ".py",
   "mimetype": "text/x-python",
   "name": "python",
   "nbconvert_exporter": "python",
   "pygments_lexer": "ipython3",
   "version": "3.10.4"
  }
 },
 "nbformat": 4,
 "nbformat_minor": 5
}
